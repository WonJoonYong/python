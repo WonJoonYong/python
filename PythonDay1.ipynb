{
  "nbformat": 4,
  "nbformat_minor": 0,
  "metadata": {
    "colab": {
      "name": "PythonDay1.ipynb",
      "provenance": [],
      "authorship_tag": "ABX9TyPFcdPgag0pVMZRTQPl+7LU",
      "include_colab_link": true
    },
    "kernelspec": {
      "name": "python3",
      "display_name": "Python 3"
    },
    "language_info": {
      "name": "python"
    }
  },
  "cells": [
    {
      "cell_type": "markdown",
      "metadata": {
        "id": "view-in-github",
        "colab_type": "text"
      },
      "source": [
        "<a href=\"https://colab.research.google.com/github/WonJoonYong/python/blob/main/PythonDay1.ipynb\" target=\"_parent\"><img src=\"https://colab.research.google.com/assets/colab-badge.svg\" alt=\"Open In Colab\"/></a>"
      ]
    },
    {
      "cell_type": "code",
      "execution_count": 130,
      "metadata": {
        "colab": {
          "base_uri": "https://localhost:8080/",
          "height": 35
        },
        "id": "yknbIpnPc4SY",
        "outputId": "278f25ec-75f0-4ef0-80e9-d7b87d770ed4"
      },
      "outputs": [
        {
          "output_type": "execute_result",
          "data": {
            "text/plain": [
              "'\\n여러줄 1\\n여러줄 2\\n여러줄 3\\n'"
            ],
            "application/vnd.google.colaboratory.intrinsic+json": {
              "type": "string"
            }
          },
          "metadata": {},
          "execution_count": 130
        }
      ],
      "source": [
        "# 파이썬이란?? \n",
        "# 귀도 반 로썸\n",
        "# 1. 인터프리터 언어이다 한줄한줄 실행한 결과를 바로바로 볼 수 있다\n",
        "# 2. 플랫폼에 독립적이다. 맥 윈도우 리눅스 전부 같은 파이썬 코드를 사용할 수 있다\n",
        "# 3. 객체지향 언어이다. 객체를 기반으로 정보은닉, 상속 등등의 개념을 지원한다.\n",
        "# 4. 동적 타이핑 언어이다. 실행 중 처리할 수 있는 작업을 동적작업이라고 하고 파이썬은 이것을 지원한다.\n",
        "# 5. 개발 속도가 빠르다. 이미 만들어 놓은 다양한 라이브러리를 사용할여 빠르게 새로운 프로그램을 개발할 수 있다.\n",
        "\n",
        "\n",
        "# 주석 comment\n",
        "# 프로그램의 소스 코드에 설명을 작성하는 부분을 주석이라고 한다.\n",
        "# DocString ''' 코드 설명  '''\n",
        "\n",
        "'''\n",
        "여러줄 1\n",
        "여러줄 2\n",
        "여러줄 3\n",
        "'''\n"
      ]
    },
    {
      "cell_type": "code",
      "source": [
        "'''\n",
        "파일명 : Ex02-1.py\n",
        "개요 : 반지름을 전달하면 원의 넓이를 반환하는 get_area()함수\\\n",
        "작성자 : 홍길동\n",
        "최초작성일 : 2020 - 08 - 25\n",
        "'''\n",
        "\n",
        "# math 모듈 포함\n",
        "import math\n",
        "\n",
        "#get_area() 함수 정의\n",
        "def get_area(radius):\n",
        "  \"\"\"반지름을 입력받아 원의 넓이를 반환하는 get_area()함수\"\"\"\n",
        "  area=math.pi*math.pow(radius,2)\n",
        "  return area\n",
        "\n",
        "  radius=1.5\n",
        "  #get_area()함수 호출 결과를 area변수에 저장\n",
        "  area = get_area(radius)\n",
        "  print(area)\n",
        "  print(get_area,__doc__) # DocString 확인"
      ],
      "metadata": {
        "id": "tGWlu6wdo9S2"
      },
      "execution_count": 131,
      "outputs": []
    },
    {
      "cell_type": "code",
      "source": [
        "# 변수...\n",
        "# variable  : 어떤 데이터를 저장할때 사용하는 메모리 저장소이다.\n",
        "\n",
        "score = 100\n",
        "\n",
        "print(100)\n",
        "print(score)\n",
        "\n",
        "# 변수명 만드는 규칙\n",
        "\n",
        "# 1. 영문 한글 숫자 밑줄로 구성된다. (한글은 사용하지 말자)\n",
        "# 2. 특수문자는 사용할 수 없다. @#$%^&*\n",
        "# 3. 대문자와 소문자를 구분한다. a = 1 A = 2\n",
        "# 4. 변수명의 첫 글자에는 숫자가 올 수 없다. a1 = 1(O) 1a = 1 (X)\n",
        "# 5. 예약어, 키워드는 변수명으로 사용할 수 없다.\n",
        "# * 가급적이면 소문자로만 만들자\n",
        "# * 한글 변수명은 가능하지만 사용하지 말자\n",
        "# * 변수명에 의미를 담자. a = 85 mathScore = 85"
      ],
      "metadata": {
        "colab": {
          "base_uri": "https://localhost:8080/"
        },
        "id": "Y6osNyN3ramG",
        "outputId": "abcbfc59-6cd0-4e61-f8e7-2e35177d564d"
      },
      "execution_count": 132,
      "outputs": [
        {
          "output_type": "stream",
          "name": "stdout",
          "text": [
            "100\n",
            "100\n"
          ]
        }
      ]
    },
    {
      "cell_type": "code",
      "source": [
        "a = 1 \n",
        "A = 2\n",
        "print(a)\n",
        "print(A)"
      ],
      "metadata": {
        "colab": {
          "base_uri": "https://localhost:8080/"
        },
        "id": "c3beDBaytVC_",
        "outputId": "33188030-9cb7-4e27-f8bd-675ac4dad067"
      },
      "execution_count": 133,
      "outputs": [
        {
          "output_type": "stream",
          "name": "stdout",
          "text": [
            "1\n",
            "2\n"
          ]
        }
      ]
    },
    {
      "cell_type": "code",
      "source": [
        "name = 'Alice'\n",
        "age = 25\n",
        "address = '''우편번호 12345\n",
        "서울시 영등포구 여의도동\n",
        "서울빌딩 501호 '''\n",
        "boyfriend = None\n",
        "height = 168.5\n",
        "\n",
        "print(name)\n",
        "print(age)\n",
        "print(address)\n",
        "print(boyfriend)\n",
        "print(height)"
      ],
      "metadata": {
        "colab": {
          "base_uri": "https://localhost:8080/"
        },
        "id": "dO0_rqQcuvTL",
        "outputId": "4fd44e85-8f78-4b78-bcaa-5ed3a55de938"
      },
      "execution_count": 134,
      "outputs": [
        {
          "output_type": "stream",
          "name": "stdout",
          "text": [
            "Alice\n",
            "25\n",
            "우편번호 12345\n",
            "서울시 영등포구 여의도동\n",
            "서울빌딩 501호 \n",
            "None\n",
            "168.5\n"
          ]
        }
      ]
    },
    {
      "cell_type": "code",
      "source": [
        "# 기본 자료형\n",
        "\n",
        "# 정수\n",
        "a = 3\n",
        "print(a)\n",
        "\n",
        "a = 3.14\n",
        "print(a)\n",
        "\n",
        "a = 'hello'\n",
        "print(a)\n",
        "\n"
      ],
      "metadata": {
        "colab": {
          "base_uri": "https://localhost:8080/"
        },
        "id": "S8kCcZVqzIWe",
        "outputId": "c46a9e1e-3106-4260-9fac-3d198499b1c1"
      },
      "execution_count": 135,
      "outputs": [
        {
          "output_type": "stream",
          "name": "stdout",
          "text": [
            "3\n",
            "3.14\n",
            "hello\n"
          ]
        }
      ]
    },
    {
      "cell_type": "code",
      "source": [
        "int(1.9)"
      ],
      "metadata": {
        "colab": {
          "base_uri": "https://localhost:8080/"
        },
        "id": "DP8WNpIXz5i2",
        "outputId": "d84994d8-9cd7-4952-818b-d202991c0b99"
      },
      "execution_count": 136,
      "outputs": [
        {
          "output_type": "execute_result",
          "data": {
            "text/plain": [
              "1"
            ]
          },
          "metadata": {},
          "execution_count": 136
        }
      ]
    },
    {
      "cell_type": "code",
      "source": [
        "int('100')"
      ],
      "metadata": {
        "colab": {
          "base_uri": "https://localhost:8080/"
        },
        "id": "D2gBSFut0F3m",
        "outputId": "ddbed887-b26b-476d-9bf3-c2d7bae0c1f0"
      },
      "execution_count": 137,
      "outputs": [
        {
          "output_type": "execute_result",
          "data": {
            "text/plain": [
              "100"
            ]
          },
          "metadata": {},
          "execution_count": 137
        }
      ]
    },
    {
      "cell_type": "code",
      "source": [
        "int(False)"
      ],
      "metadata": {
        "colab": {
          "base_uri": "https://localhost:8080/"
        },
        "id": "zH3t5GVv0OTF",
        "outputId": "255bef11-6156-414d-ffca-ab6f78dcf6c8"
      },
      "execution_count": 138,
      "outputs": [
        {
          "output_type": "execute_result",
          "data": {
            "text/plain": [
              "0"
            ]
          },
          "metadata": {},
          "execution_count": 138
        }
      ]
    },
    {
      "cell_type": "code",
      "source": [
        "# 실수 : float\n",
        "\n",
        "float(1)"
      ],
      "metadata": {
        "colab": {
          "base_uri": "https://localhost:8080/"
        },
        "id": "YO6vV_rT0fGv",
        "outputId": "3ae64647-9115-49d2-c9d5-de1515f2fdb6"
      },
      "execution_count": 139,
      "outputs": [
        {
          "output_type": "execute_result",
          "data": {
            "text/plain": [
              "1.0"
            ]
          },
          "metadata": {},
          "execution_count": 139
        }
      ]
    },
    {
      "cell_type": "code",
      "source": [
        "float(True)"
      ],
      "metadata": {
        "colab": {
          "base_uri": "https://localhost:8080/"
        },
        "id": "AiySBbpt0rqd",
        "outputId": "bb6d2c6e-ab0d-402b-dc63-59bc1070c77d"
      },
      "execution_count": 140,
      "outputs": [
        {
          "output_type": "execute_result",
          "data": {
            "text/plain": [
              "1.0"
            ]
          },
          "metadata": {},
          "execution_count": 140
        }
      ]
    },
    {
      "cell_type": "code",
      "source": [
        "#논리 자료형\n",
        "\n",
        "bool(10)"
      ],
      "metadata": {
        "colab": {
          "base_uri": "https://localhost:8080/"
        },
        "id": "Jt_tQOJX006O",
        "outputId": "d138f1cc-9537-42aa-9401-be899c4fc398"
      },
      "execution_count": 141,
      "outputs": [
        {
          "output_type": "execute_result",
          "data": {
            "text/plain": [
              "True"
            ]
          },
          "metadata": {},
          "execution_count": 141
        }
      ]
    },
    {
      "cell_type": "code",
      "source": [
        "bool(1)"
      ],
      "metadata": {
        "colab": {
          "base_uri": "https://localhost:8080/"
        },
        "id": "Wv5Lujy41Akw",
        "outputId": "0e32ec75-5084-4d36-8486-24e7e8a32a66"
      },
      "execution_count": 142,
      "outputs": [
        {
          "output_type": "execute_result",
          "data": {
            "text/plain": [
              "True"
            ]
          },
          "metadata": {},
          "execution_count": 142
        }
      ]
    },
    {
      "cell_type": "code",
      "source": [
        "bool(0)"
      ],
      "metadata": {
        "colab": {
          "base_uri": "https://localhost:8080/"
        },
        "id": "UsWUOgQh1EI9",
        "outputId": "9275ecd8-b27f-4615-e6e5-64ef259fd03e"
      },
      "execution_count": 143,
      "outputs": [
        {
          "output_type": "execute_result",
          "data": {
            "text/plain": [
              "False"
            ]
          },
          "metadata": {},
          "execution_count": 143
        }
      ]
    },
    {
      "cell_type": "code",
      "source": [
        "# 문자열 str\n",
        "str(100)"
      ],
      "metadata": {
        "id": "oM6-SAei1Q8N"
      },
      "execution_count": null,
      "outputs": []
    },
    {
      "cell_type": "code",
      "source": [
        "str(True)"
      ],
      "metadata": {
        "colab": {
          "base_uri": "https://localhost:8080/",
          "height": 35
        },
        "id": "g8dI6_Ye1W8P",
        "outputId": "bf0dcde7-4bed-4fb6-e5a0-fbd279b21f83"
      },
      "execution_count": 145,
      "outputs": [
        {
          "output_type": "execute_result",
          "data": {
            "text/plain": [
              "'True'"
            ],
            "application/vnd.google.colaboratory.intrinsic+json": {
              "type": "string"
            }
          },
          "metadata": {},
          "execution_count": 145
        }
      ]
    },
    {
      "cell_type": "code",
      "source": [
        "str(3.14)"
      ],
      "metadata": {
        "colab": {
          "base_uri": "https://localhost:8080/",
          "height": 35
        },
        "id": "aV0oGeYL1cdQ",
        "outputId": "d33abd45-9505-4981-ef29-722d6d74e917"
      },
      "execution_count": 146,
      "outputs": [
        {
          "output_type": "execute_result",
          "data": {
            "text/plain": [
              "'3.14'"
            ],
            "application/vnd.google.colaboratory.intrinsic+json": {
              "type": "string"
            }
          },
          "metadata": {},
          "execution_count": 146
        }
      ]
    },
    {
      "cell_type": "code",
      "source": [
        "# 인덱싱(인덱스) 몇번째 한 글자\n",
        "\n",
        "s = 'hello'\n",
        "s[0]\n",
        "\n",
        "# H e l l o\n",
        "# 0 1 2 3 4   index\n",
        "#-5-4-3-2-1"
      ],
      "metadata": {
        "colab": {
          "base_uri": "https://localhost:8080/",
          "height": 35
        },
        "id": "TqGByYBE1j3V",
        "outputId": "60115678-ec6d-4b01-a6e6-de2195e6a23a"
      },
      "execution_count": 148,
      "outputs": [
        {
          "output_type": "execute_result",
          "data": {
            "text/plain": [
              "'h'"
            ],
            "application/vnd.google.colaboratory.intrinsic+json": {
              "type": "string"
            }
          },
          "metadata": {},
          "execution_count": 148
        }
      ]
    },
    {
      "cell_type": "code",
      "source": [
        "s[-4]"
      ],
      "metadata": {
        "colab": {
          "base_uri": "https://localhost:8080/",
          "height": 35
        },
        "id": "8LvUevQc2iPD",
        "outputId": "f18fb942-b832-4b63-ed36-05db7eb59f51"
      },
      "execution_count": 152,
      "outputs": [
        {
          "output_type": "execute_result",
          "data": {
            "text/plain": [
              "'e'"
            ],
            "application/vnd.google.colaboratory.intrinsic+json": {
              "type": "string"
            }
          },
          "metadata": {},
          "execution_count": 152
        }
      ]
    },
    {
      "cell_type": "code",
      "source": [
        "# 슬라이싱 몇번째부터 몇번째 여러글자\n",
        "\n",
        "s = 'hello'\n",
        "\n",
        "# s[0:2]  # [시작:끝(미만)]\n",
        "# s[0:]   # 끝을 생략하면 끝까지\n",
        "s[:-1]    # 시작을 생략하면 처음부터"
      ],
      "metadata": {
        "colab": {
          "base_uri": "https://localhost:8080/",
          "height": 35
        },
        "id": "Iq04qahr3bWY",
        "outputId": "3a184759-00ff-45f7-b999-2a58571db773"
      },
      "execution_count": 159,
      "outputs": [
        {
          "output_type": "execute_result",
          "data": {
            "text/plain": [
              "'hell'"
            ],
            "application/vnd.google.colaboratory.intrinsic+json": {
              "type": "string"
            }
          },
          "metadata": {},
          "execution_count": 159
        }
      ]
    }
  ]
}