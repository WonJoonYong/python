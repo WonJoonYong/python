{
  "nbformat": 4,
  "nbformat_minor": 0,
  "metadata": {
    "colab": {
      "name": "Python5.ipynb",
      "provenance": [],
      "authorship_tag": "ABX9TyOmbzCEQG7nXUm5F9Kju0Ye",
      "include_colab_link": true
    },
    "kernelspec": {
      "name": "python3",
      "display_name": "Python 3"
    },
    "language_info": {
      "name": "python"
    }
  },
  "cells": [
    {
      "cell_type": "markdown",
      "metadata": {
        "id": "view-in-github",
        "colab_type": "text"
      },
      "source": [
        "<a href=\"https://colab.research.google.com/github/WonJoonYong/python/blob/main/Python5.ipynb\" target=\"_parent\"><img src=\"https://colab.research.google.com/assets/colab-badge.svg\" alt=\"Open In Colab\"/></a>"
      ]
    },
    {
      "cell_type": "code",
      "execution_count": 1,
      "metadata": {
        "colab": {
          "base_uri": "https://localhost:8080/"
        },
        "id": "oDlbrc4rKkqM",
        "outputId": "cae67b52-ba0a-4f64-e335-49b138022630"
      },
      "outputs": [
        {
          "output_type": "stream",
          "name": "stdout",
          "text": [
            "1\n",
            "2\n",
            "3\n"
          ]
        }
      ],
      "source": [
        "# p 116 for문\n",
        "\n",
        "for n in[1,2,3]:\n",
        "  print(n)"
      ]
    },
    {
      "cell_type": "code",
      "source": [
        "n = 1\n",
        "while n in [1,2,3]:\n",
        "  print(n)\n",
        "  n +=1"
      ],
      "metadata": {
        "colab": {
          "base_uri": "https://localhost:8080/"
        },
        "id": "XZTKHjctLi7K",
        "outputId": "a375873f-7f22-4d9f-c3cf-6ce3d9419baa"
      },
      "execution_count": 12,
      "outputs": [
        {
          "output_type": "stream",
          "name": "stdout",
          "text": [
            "1\n",
            "2\n",
            "3\n"
          ]
        }
      ]
    },
    {
      "cell_type": "code",
      "source": [
        "# 반복가능객체 (컬렉션)\n",
        "# 시퀀스 자료형 - 문자열 리스트 튜플 range\n",
        "# 비시퀀스 자료형 - 셋 , 딕셔너리 (순서가 없다)\n",
        "\n",
        "for ch in 'hello':\n",
        "  print(ch)"
      ],
      "metadata": {
        "colab": {
          "base_uri": "https://localhost:8080/"
        },
        "id": "yLV4uXnxMjnL",
        "outputId": "fced2805-c54e-446b-9342-b97bac8e7269"
      },
      "execution_count": 13,
      "outputs": [
        {
          "output_type": "stream",
          "name": "stdout",
          "text": [
            "h\n",
            "e\n",
            "l\n",
            "l\n",
            "o\n"
          ]
        }
      ]
    },
    {
      "cell_type": "code",
      "source": [
        "for item in ['가위', '바위', '보']:\n",
        "  print(item)"
      ],
      "metadata": {
        "colab": {
          "base_uri": "https://localhost:8080/"
        },
        "id": "GAK70qLyNTss",
        "outputId": "8cca1a61-b86d-4323-a85b-ff394a22a2cf"
      },
      "execution_count": 14,
      "outputs": [
        {
          "output_type": "stream",
          "name": "stdout",
          "text": [
            "가위\n",
            "바위\n",
            "보\n"
          ]
        }
      ]
    },
    {
      "cell_type": "code",
      "source": [
        "# for문과 tuple\n",
        "for season in ('Spring', 'Summer', 'Autumn', 'Winter'):\n",
        "  print(season)"
      ],
      "metadata": {
        "colab": {
          "base_uri": "https://localhost:8080/"
        },
        "id": "jXsHfZHDNhwn",
        "outputId": "9af94c0d-d9c1-4fa5-edf9-d8b47af02162"
      },
      "execution_count": 15,
      "outputs": [
        {
          "output_type": "stream",
          "name": "stdout",
          "text": [
            "Spring\n",
            "Summer\n",
            "Autumn\n",
            "Winter\n"
          ]
        }
      ]
    },
    {
      "cell_type": "code",
      "source": [
        "# for문과 range()\n",
        "\n",
        "# range(5) # 0부터 5미만까지 = 4까지\n",
        "# range(2,10) # 2부터 10미만 = 9까지\n"
      ],
      "metadata": {
        "colab": {
          "base_uri": "https://localhost:8080/"
        },
        "id": "lj9q8KalN2gO",
        "outputId": "9b904653-cfdb-4ecf-8416-a744d5cc6def"
      },
      "execution_count": 17,
      "outputs": [
        {
          "output_type": "execute_result",
          "data": {
            "text/plain": [
              "range(2, 10)"
            ]
          },
          "metadata": {},
          "execution_count": 17
        }
      ]
    },
    {
      "cell_type": "code",
      "source": [
        "print(list(range(5)))"
      ],
      "metadata": {
        "colab": {
          "base_uri": "https://localhost:8080/"
        },
        "id": "Lk4BxCjROVD9",
        "outputId": "54af016b-40cf-4f3d-9c01-4c90acdfccd6"
      },
      "execution_count": 19,
      "outputs": [
        {
          "output_type": "stream",
          "name": "stdout",
          "text": [
            "[0, 1, 2, 3, 4]\n"
          ]
        }
      ]
    },
    {
      "cell_type": "code",
      "source": [
        "print(list(range(2,10)))"
      ],
      "metadata": {
        "colab": {
          "base_uri": "https://localhost:8080/"
        },
        "id": "DlKXnFsVOkt8",
        "outputId": "313c44d5-ff64-40a6-99d3-4eef15e8283e"
      },
      "execution_count": 20,
      "outputs": [
        {
          "output_type": "stream",
          "name": "stdout",
          "text": [
            "[2, 3, 4, 5, 6, 7, 8, 9]\n"
          ]
        }
      ]
    },
    {
      "cell_type": "code",
      "source": [
        "for n in [1,2,3,4,5,6,7,8,9,10]:\n",
        "  print(n)"
      ],
      "metadata": {
        "id": "5utdE86rOv00"
      },
      "execution_count": null,
      "outputs": []
    },
    {
      "cell_type": "code",
      "source": [
        "for n in range(1,11):\n",
        "  print(n)"
      ],
      "metadata": {
        "colab": {
          "base_uri": "https://localhost:8080/"
        },
        "id": "KuoD0uPuPACN",
        "outputId": "ccbe60de-69c5-49fa-a802-abd8e17966e6"
      },
      "execution_count": 22,
      "outputs": [
        {
          "output_type": "stream",
          "name": "stdout",
          "text": [
            "1\n",
            "2\n",
            "3\n",
            "4\n",
            "5\n",
            "6\n",
            "7\n",
            "8\n",
            "9\n",
            "10\n"
          ]
        }
      ]
    },
    {
      "cell_type": "code",
      "source": [
        "# for문과 set\n",
        "for item in{'가위', '바위', '보'}:\n",
        "  print(item)"
      ],
      "metadata": {
        "colab": {
          "base_uri": "https://localhost:8080/"
        },
        "id": "LDNbBEO1PJPr",
        "outputId": "4991e8ad-d194-46f8-8dff-aae955567918"
      },
      "execution_count": 23,
      "outputs": [
        {
          "output_type": "stream",
          "name": "stdout",
          "text": [
            "가위\n",
            "보\n",
            "바위\n"
          ]
        }
      ]
    },
    {
      "cell_type": "code",
      "source": [
        "#for문과 딕셔너리\n",
        "\n",
        "person ={\n",
        "    'name':'에밀리',\n",
        "    'age':20\n",
        "}\n",
        "\n",
        "for item in person:\n",
        "  print(item, person[item])"
      ],
      "metadata": {
        "colab": {
          "base_uri": "https://localhost:8080/"
        },
        "id": "J3r7zrWFPwx6",
        "outputId": "603a5e43-3222-4a4d-aad6-d96a275f6230"
      },
      "execution_count": 28,
      "outputs": [
        {
          "output_type": "stream",
          "name": "stdout",
          "text": [
            "name 에밀리\n",
            "age 20\n"
          ]
        }
      ]
    },
    {
      "cell_type": "code",
      "source": [
        "n = int(input('임의의 양수를 입력하세요 >>>'))\n",
        "\n",
        "sum = 0\n",
        "for no in range(1,n+1):\n",
        "  sum += no\n",
        "print(sum)\n",
        "  "
      ],
      "metadata": {
        "colab": {
          "base_uri": "https://localhost:8080/"
        },
        "id": "Xt-HbSkAP-gs",
        "outputId": "1449abc1-9c64-491e-ce24-a37d99b5063b"
      },
      "execution_count": 34,
      "outputs": [
        {
          "output_type": "stream",
          "name": "stdout",
          "text": [
            "임의의 양수를 입력하세요 >>>5\n",
            "15\n"
          ]
        }
      ]
    },
    {
      "cell_type": "code",
      "source": [
        "no = int(input('몇 개의 과일을 저장할까요? >>>'))\n",
        "\n",
        "basket = []\n",
        "\n",
        "for i in range(no):\n",
        "  fruit = input(f'{i+1}번째 과일을 입력하세요 >>>')\n",
        "  basket.append(fruit)\n",
        "\n",
        "print(f'입력받은 과일들은 {basket}입니다.')"
      ],
      "metadata": {
        "colab": {
          "base_uri": "https://localhost:8080/"
        },
        "id": "wM_W_NWGR_IW",
        "outputId": "aa57a125-2fb9-4db0-e8dd-a27c198638b6"
      },
      "execution_count": 37,
      "outputs": [
        {
          "output_type": "stream",
          "name": "stdout",
          "text": [
            "몇 개의 과일을 저장할까요? >>>5\n",
            "1번째 과일을 입력하세요 >>>사과\n",
            "2번째 과일을 입력하세요 >>>포도\n",
            "3번째 과일을 입력하세요 >>>바나나\n",
            "4번째 과일을 입력하세요 >>>망고\n",
            "5번째 과일을 입력하세요 >>>오렌지\n",
            "입력받은 과일들은 ['사과', '포도', '바나나', '망고', '오렌지']입니다.\n"
          ]
        }
      ]
    }
  ]
}