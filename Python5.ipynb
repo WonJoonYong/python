{
  "nbformat": 4,
  "nbformat_minor": 0,
  "metadata": {
    "colab": {
      "name": "Python5.ipynb",
      "provenance": [],
      "authorship_tag": "ABX9TyO6piZOL9Pn1j8Kfohx+dka",
      "include_colab_link": true
    },
    "kernelspec": {
      "name": "python3",
      "display_name": "Python 3"
    },
    "language_info": {
      "name": "python"
    }
  },
  "cells": [
    {
      "cell_type": "markdown",
      "metadata": {
        "id": "view-in-github",
        "colab_type": "text"
      },
      "source": [
        "<a href=\"https://colab.research.google.com/github/WonJoonYong/python/blob/main/Python5.ipynb\" target=\"_parent\"><img src=\"https://colab.research.google.com/assets/colab-badge.svg\" alt=\"Open In Colab\"/></a>"
      ]
    },
    {
      "cell_type": "code",
      "execution_count": 1,
      "metadata": {
        "colab": {
          "base_uri": "https://localhost:8080/"
        },
        "id": "oDlbrc4rKkqM",
        "outputId": "cae67b52-ba0a-4f64-e335-49b138022630"
      },
      "outputs": [
        {
          "output_type": "stream",
          "name": "stdout",
          "text": [
            "1\n",
            "2\n",
            "3\n"
          ]
        }
      ],
      "source": [
        "# p 116 for문\n",
        "\n",
        "for n in[1,2,3]:\n",
        "  print(n)"
      ]
    },
    {
      "cell_type": "code",
      "source": [
        "n = 1\n",
        "while n in [1,2,3]:\n",
        "  print(n)\n",
        "  n +=1"
      ],
      "metadata": {
        "colab": {
          "base_uri": "https://localhost:8080/"
        },
        "id": "XZTKHjctLi7K",
        "outputId": "a375873f-7f22-4d9f-c3cf-6ce3d9419baa"
      },
      "execution_count": 12,
      "outputs": [
        {
          "output_type": "stream",
          "name": "stdout",
          "text": [
            "1\n",
            "2\n",
            "3\n"
          ]
        }
      ]
    },
    {
      "cell_type": "code",
      "source": [
        "# 반복가능객체 (컬렉션)\n",
        "# 시퀀스 자료형 - 문자열 리스트 튜플 range\n",
        "# 비시퀀스 자료형 - 셋 , 딕셔너리 (순서가 없다)\n",
        "\n",
        "for ch in 'hello':\n",
        "  print(ch)"
      ],
      "metadata": {
        "colab": {
          "base_uri": "https://localhost:8080/"
        },
        "id": "yLV4uXnxMjnL",
        "outputId": "fced2805-c54e-446b-9342-b97bac8e7269"
      },
      "execution_count": 13,
      "outputs": [
        {
          "output_type": "stream",
          "name": "stdout",
          "text": [
            "h\n",
            "e\n",
            "l\n",
            "l\n",
            "o\n"
          ]
        }
      ]
    },
    {
      "cell_type": "code",
      "source": [
        "for item in ['가위', '바위', '보']:\n",
        "  print(item)"
      ],
      "metadata": {
        "colab": {
          "base_uri": "https://localhost:8080/"
        },
        "id": "GAK70qLyNTss",
        "outputId": "8cca1a61-b86d-4323-a85b-ff394a22a2cf"
      },
      "execution_count": 14,
      "outputs": [
        {
          "output_type": "stream",
          "name": "stdout",
          "text": [
            "가위\n",
            "바위\n",
            "보\n"
          ]
        }
      ]
    },
    {
      "cell_type": "code",
      "source": [
        "# for문과 tuple\n",
        "for season in ('Spring', 'Summer', 'Autumn', 'Winter'):\n",
        "  print(season)"
      ],
      "metadata": {
        "colab": {
          "base_uri": "https://localhost:8080/"
        },
        "id": "jXsHfZHDNhwn",
        "outputId": "9af94c0d-d9c1-4fa5-edf9-d8b47af02162"
      },
      "execution_count": 15,
      "outputs": [
        {
          "output_type": "stream",
          "name": "stdout",
          "text": [
            "Spring\n",
            "Summer\n",
            "Autumn\n",
            "Winter\n"
          ]
        }
      ]
    },
    {
      "cell_type": "code",
      "source": [
        "# for문과 range()\n",
        "\n",
        "# range(5) # 0부터 5미만까지 = 4까지\n",
        "# range(2,10) # 2부터 10미만 = 9까지\n"
      ],
      "metadata": {
        "colab": {
          "base_uri": "https://localhost:8080/"
        },
        "id": "lj9q8KalN2gO",
        "outputId": "9b904653-cfdb-4ecf-8416-a744d5cc6def"
      },
      "execution_count": 17,
      "outputs": [
        {
          "output_type": "execute_result",
          "data": {
            "text/plain": [
              "range(2, 10)"
            ]
          },
          "metadata": {},
          "execution_count": 17
        }
      ]
    },
    {
      "cell_type": "code",
      "source": [
        "print(list(range(5)))"
      ],
      "metadata": {
        "colab": {
          "base_uri": "https://localhost:8080/"
        },
        "id": "Lk4BxCjROVD9",
        "outputId": "54af016b-40cf-4f3d-9c01-4c90acdfccd6"
      },
      "execution_count": 19,
      "outputs": [
        {
          "output_type": "stream",
          "name": "stdout",
          "text": [
            "[0, 1, 2, 3, 4]\n"
          ]
        }
      ]
    },
    {
      "cell_type": "code",
      "source": [
        "print(list(range(2,10)))"
      ],
      "metadata": {
        "colab": {
          "base_uri": "https://localhost:8080/"
        },
        "id": "DlKXnFsVOkt8",
        "outputId": "313c44d5-ff64-40a6-99d3-4eef15e8283e"
      },
      "execution_count": 20,
      "outputs": [
        {
          "output_type": "stream",
          "name": "stdout",
          "text": [
            "[2, 3, 4, 5, 6, 7, 8, 9]\n"
          ]
        }
      ]
    },
    {
      "cell_type": "code",
      "source": [
        "for n in [1,2,3,4,5,6,7,8,9,10]:\n",
        "  print(n)"
      ],
      "metadata": {
        "id": "5utdE86rOv00"
      },
      "execution_count": null,
      "outputs": []
    },
    {
      "cell_type": "code",
      "source": [
        "for n in range(1,11):\n",
        "  print(n)"
      ],
      "metadata": {
        "colab": {
          "base_uri": "https://localhost:8080/"
        },
        "id": "KuoD0uPuPACN",
        "outputId": "ccbe60de-69c5-49fa-a802-abd8e17966e6"
      },
      "execution_count": 22,
      "outputs": [
        {
          "output_type": "stream",
          "name": "stdout",
          "text": [
            "1\n",
            "2\n",
            "3\n",
            "4\n",
            "5\n",
            "6\n",
            "7\n",
            "8\n",
            "9\n",
            "10\n"
          ]
        }
      ]
    },
    {
      "cell_type": "code",
      "source": [
        "# for문과 set\n",
        "for item in{'가위', '바위', '보'}:\n",
        "  print(item)"
      ],
      "metadata": {
        "colab": {
          "base_uri": "https://localhost:8080/"
        },
        "id": "LDNbBEO1PJPr",
        "outputId": "4991e8ad-d194-46f8-8dff-aae955567918"
      },
      "execution_count": 23,
      "outputs": [
        {
          "output_type": "stream",
          "name": "stdout",
          "text": [
            "가위\n",
            "보\n",
            "바위\n"
          ]
        }
      ]
    },
    {
      "cell_type": "code",
      "source": [
        "#for문과 딕셔너리\n",
        "\n",
        "person ={\n",
        "    'name':'에밀리',\n",
        "    'age':20\n",
        "}\n",
        "\n",
        "for item in person:\n",
        "  print(item, person[item])"
      ],
      "metadata": {
        "colab": {
          "base_uri": "https://localhost:8080/"
        },
        "id": "J3r7zrWFPwx6",
        "outputId": "603a5e43-3222-4a4d-aad6-d96a275f6230"
      },
      "execution_count": 28,
      "outputs": [
        {
          "output_type": "stream",
          "name": "stdout",
          "text": [
            "name 에밀리\n",
            "age 20\n"
          ]
        }
      ]
    },
    {
      "cell_type": "code",
      "source": [
        "n = int(input('임의의 양수를 입력하세요 >>>'))\n",
        "\n",
        "sum = 0\n",
        "for no in range(1,n+1):\n",
        "  sum += no\n",
        "print(sum)\n",
        "  "
      ],
      "metadata": {
        "colab": {
          "base_uri": "https://localhost:8080/"
        },
        "id": "Xt-HbSkAP-gs",
        "outputId": "1449abc1-9c64-491e-ce24-a37d99b5063b"
      },
      "execution_count": 34,
      "outputs": [
        {
          "output_type": "stream",
          "name": "stdout",
          "text": [
            "임의의 양수를 입력하세요 >>>5\n",
            "15\n"
          ]
        }
      ]
    },
    {
      "cell_type": "code",
      "source": [
        "no = int(input('몇 개의 과일을 저장할까요? >>>'))\n",
        "\n",
        "basket = []\n",
        "\n",
        "for i in range(no):\n",
        "  fruit = input(f'{i+1}번째 과일을 입력하세요 >>>')\n",
        "  basket.append(fruit)\n",
        "\n",
        "print(f'입력받은 과일들은 {basket}입니다.')"
      ],
      "metadata": {
        "colab": {
          "base_uri": "https://localhost:8080/"
        },
        "id": "wM_W_NWGR_IW",
        "outputId": "aa57a125-2fb9-4db0-e8dd-a27c198638b6"
      },
      "execution_count": 37,
      "outputs": [
        {
          "output_type": "stream",
          "name": "stdout",
          "text": [
            "몇 개의 과일을 저장할까요? >>>5\n",
            "1번째 과일을 입력하세요 >>>사과\n",
            "2번째 과일을 입력하세요 >>>포도\n",
            "3번째 과일을 입력하세요 >>>바나나\n",
            "4번째 과일을 입력하세요 >>>망고\n",
            "5번째 과일을 입력하세요 >>>오렌지\n",
            "입력받은 과일들은 ['사과', '포도', '바나나', '망고', '오렌지']입니다.\n"
          ]
        }
      ]
    },
    {
      "cell_type": "code",
      "source": [
        "n = 1\n",
        "while n <= 10:\n",
        "  print(n)\n",
        "  \n",
        "  n+=1"
      ],
      "metadata": {
        "colab": {
          "base_uri": "https://localhost:8080/"
        },
        "id": "JVSGvCPQUWwp",
        "outputId": "298069d6-1383-485c-ba50-77e5d1b8b166"
      },
      "execution_count": 41,
      "outputs": [
        {
          "output_type": "stream",
          "name": "stdout",
          "text": [
            "1\n"
          ]
        }
      ]
    },
    {
      "cell_type": "code",
      "source": [
        "n = 1\n",
        "while True:\n",
        "  print(n)\n",
        "  if n==10:\n",
        "    break\n",
        "  n+=1"
      ],
      "metadata": {
        "colab": {
          "base_uri": "https://localhost:8080/"
        },
        "id": "_gJkQABVUszB",
        "outputId": "88f09386-0d69-449e-eab6-e97f40ce9124"
      },
      "execution_count": 44,
      "outputs": [
        {
          "output_type": "stream",
          "name": "stdout",
          "text": [
            "1\n",
            "2\n",
            "3\n",
            "4\n",
            "5\n",
            "6\n",
            "7\n",
            "8\n",
            "9\n",
            "10\n"
          ]
        }
      ]
    },
    {
      "cell_type": "code",
      "source": [
        "# p 138 continue\n",
        "\n",
        "total = 0;\n",
        "for a in range(1, 101):\n",
        "  if a % 3 == 0:\n",
        "    continue\n",
        "  total += a\n",
        "\n",
        "print(total)"
      ],
      "metadata": {
        "colab": {
          "base_uri": "https://localhost:8080/"
        },
        "id": "Ck6oScqXU9qJ",
        "outputId": "1c6e127b-6e1d-4209-da48-7fdc5a8d600c"
      },
      "execution_count": 49,
      "outputs": [
        {
          "output_type": "stream",
          "name": "stdout",
          "text": [
            "3367\n"
          ]
        }
      ]
    },
    {
      "cell_type": "code",
      "source": [
        "total = 0\n",
        "for a in range(1, 101):\n",
        "  if a % 3 == 0:\n",
        "    continue\n",
        "  total +=a\n",
        "\n",
        "print(total)"
      ],
      "metadata": {
        "colab": {
          "base_uri": "https://localhost:8080/"
        },
        "id": "_MVI58ywWYXh",
        "outputId": "9ccff36a-b316-4b88-cb09-049a719638e1"
      },
      "execution_count": 53,
      "outputs": [
        {
          "output_type": "stream",
          "name": "stdout",
          "text": [
            "3367\n"
          ]
        }
      ]
    },
    {
      "cell_type": "code",
      "source": [
        "\n",
        "\n",
        "coin = 10000\n",
        "while True:\n",
        "  print(f'현재 {coin}원이 있습니다.')\n",
        "\n",
        "  if coin ==0:\n",
        "    break\n",
        "\n",
        "  pay = int(input('사용할 금액 입력 >>>'))\n",
        "\n",
        "  if pay <= 0:\n",
        "    print('0이하의 금액은 사용할 수 없습니다.')\n",
        "  elif pay > coin:\n",
        "    print(f'{pay-coin}원이 부족합니다.')\n",
        "  else:\n",
        "    coin -= pay"
      ],
      "metadata": {
        "colab": {
          "base_uri": "https://localhost:8080/"
        },
        "id": "zX0KPt3HYiFQ",
        "outputId": "04e45920-ce4a-4ccd-c72a-b507eea80f31"
      },
      "execution_count": 54,
      "outputs": [
        {
          "output_type": "stream",
          "name": "stdout",
          "text": [
            "현재 10000원이 있습니다.\n",
            "사용할 금액 입력 >>>5000\n",
            "현재 5000원이 있습니다.\n",
            "사용할 금액 입력 >>>1000\n",
            "현재 4000원이 있습니다.\n",
            "사용할 금액 입력 >>>4000\n",
            "현재 0원이 있습니다.\n"
          ]
        }
      ]
    },
    {
      "cell_type": "code",
      "source": [
        "while True:\n",
        "\n",
        "\n",
        "  score = int(input('이번 영화의 평점을 입력하세요 >>>'))\n",
        "\n",
        "\n",
        "\n",
        "  if score > 5 or score <= 0:\n",
        "    print('평점은 1~5 사이만 입력할 수 있습니다')\n",
        "\n",
        "  else:\n",
        "    print(f'평점 :', 'ㅁ' * score)\n",
        "    break"
      ],
      "metadata": {
        "id": "--rBIWkUaplL"
      },
      "execution_count": null,
      "outputs": []
    },
    {
      "cell_type": "code",
      "source": [
        "pw = 'qwerty'\n",
        "\n",
        "no = 1\n",
        "\n",
        "while True:\n",
        "    pa = input('비밀번호를 입력하세요')\n",
        "\n",
        "    if pw == pa:\n",
        "      print('비밀번호를 맞혔습니다')\n",
        "      5break\n",
        "  \n",
        "    if no == 5:\n",
        "      print('비밀번호 입력 횟수를 초과했습니다')\n",
        "      break\n",
        "\n",
        "    no +=1\n",
        "\n",
        "    "
      ],
      "metadata": {
        "colab": {
          "base_uri": "https://localhost:8080/"
        },
        "id": "yBEUxV9td8q4",
        "outputId": "a4828d4e-b45e-489b-e50b-c23532bdd332"
      },
      "execution_count": 84,
      "outputs": [
        {
          "output_type": "stream",
          "name": "stdout",
          "text": [
            "비밀번호를 입력하세요1\n",
            "비밀번호를 입력하세요2\n",
            "비밀번호를 입력하세요3\n",
            "비밀번호를 입력하세요4\n",
            "비밀번호를 입력하세요\n",
            "비밀번호 입력 횟수를 초과했습니다\n"
          ]
        }
      ]
    },
    {
      "cell_type": "code",
      "source": [
        "#continue break\n",
        "\n",
        "for i in range(2, 10):\n",
        "  if i % 2== 0:\n",
        "    continue\n",
        "  for j in range(1, 10):\n",
        "    if j > i:\n",
        "      break\n",
        "    print(f'{i} * {j} = {i*j}')\n",
        "  print()"
      ],
      "metadata": {
        "id": "nCpGrDI2f7Jl"
      },
      "execution_count": null,
      "outputs": []
    },
    {
      "cell_type": "code",
      "source": [
        "for item in enumerate(['가위', '바위', '보']):\n",
        "  print(item)"
      ],
      "metadata": {
        "colab": {
          "base_uri": "https://localhost:8080/"
        },
        "id": "GarXvd6amK5w",
        "outputId": "65584104-c43e-46dc-c581-c71ad93857ed"
      },
      "execution_count": 91,
      "outputs": [
        {
          "output_type": "stream",
          "name": "stdout",
          "text": [
            "(0, '가위')\n",
            "(1, '바위')\n",
            "(2, '보')\n"
          ]
        }
      ]
    },
    {
      "cell_type": "code",
      "source": [
        "for idx, item in enumerate(['가위', '바위', '보']):\n",
        "  print(idx + 1, item)"
      ],
      "metadata": {
        "colab": {
          "base_uri": "https://localhost:8080/"
        },
        "id": "wM9giyQPm5NZ",
        "outputId": "04f86cfc-5b3d-4450-eb7d-ad4c36b5850b"
      },
      "execution_count": 94,
      "outputs": [
        {
          "output_type": "stream",
          "name": "stdout",
          "text": [
            "1 가위\n",
            "2 바위\n",
            "3 보\n"
          ]
        }
      ]
    },
    {
      "cell_type": "code",
      "source": [
        "# zip()\n",
        "\n",
        "names = ['james', 'emily', 'amanda']\n",
        "scores = [60,70,80]\n",
        "\n",
        "for student in zip(names,scores):\n",
        "  print(student)"
      ],
      "metadata": {
        "colab": {
          "base_uri": "https://localhost:8080/"
        },
        "id": "HA5KcZ-_napd",
        "outputId": "5987cb1f-5509-4e91-a8de-8737b1f73384"
      },
      "execution_count": 95,
      "outputs": [
        {
          "output_type": "stream",
          "name": "stdout",
          "text": [
            "('james', 60)\n",
            "('emily', 70)\n",
            "('amanda', 80)\n"
          ]
        }
      ]
    },
    {
      "cell_type": "code",
      "source": [
        "names = ['james', 'emily', 'amanda']\n",
        "scores = [60,70,80]\n",
        "\n",
        "for name, scores in zip(names,scores):\n",
        "  print(f'{name}의 점수는 {scores}점입니다.')"
      ],
      "metadata": {
        "colab": {
          "base_uri": "https://localhost:8080/"
        },
        "id": "WWS3auCanuwM",
        "outputId": "ef020b87-40b7-44b5-af77-fc68dee89fab"
      },
      "execution_count": 97,
      "outputs": [
        {
          "output_type": "stream",
          "name": "stdout",
          "text": [
            "james의 점수는 60점입니다.\n",
            "emily의 점수는 70점입니다.\n",
            "amanda의 점수는 80점입니다.\n"
          ]
        }
      ]
    },
    {
      "cell_type": "code",
      "source": [
        "# 184 사용자 함수\n",
        "\n",
        "# def 함수명(변수) : \n",
        "#   본문\n",
        "#   return 결과\n",
        "\n"
      ],
      "metadata": {
        "id": "JuWg0sSCpsMj"
      },
      "execution_count": null,
      "outputs": []
    },
    {
      "cell_type": "code",
      "source": [
        "# 1 인수 없고 반환 없는 사용자 정의 함수\n",
        "# 2 인수 있고 반환 없는 사용자 정의 함수\n",
        "# 3 인수 없고 반환 있는 사용자 정의 함수\n",
        "# 4 인수 있고 반환 있는 사용자 정의 함수"
      ],
      "metadata": {
        "id": "6BIBh2ltqfju"
      },
      "execution_count": null,
      "outputs": []
    },
    {
      "cell_type": "code",
      "source": [
        "# 1 인수 없고 반환 없는 사용자 정의 함수\n",
        "\n",
        "def welcome():\n",
        "  print('Hello World')\n",
        "\n",
        "welcome()"
      ],
      "metadata": {
        "colab": {
          "base_uri": "https://localhost:8080/"
        },
        "id": "yrjU1dAXrA4G",
        "outputId": "d13eee45-6589-45be-83af-e1db97fe08f8"
      },
      "execution_count": 98,
      "outputs": [
        {
          "output_type": "stream",
          "name": "stdout",
          "text": [
            "Hello World\n"
          ]
        }
      ]
    },
    {
      "cell_type": "code",
      "source": [
        "# 2 인수 있고 반환 없는 사용자 정의 함수\n",
        "def welcome(name):\n",
        "  print('Hello ', name)\n",
        "\n",
        "welcome('Austin')"
      ],
      "metadata": {
        "colab": {
          "base_uri": "https://localhost:8080/"
        },
        "id": "knklxz-3reAe",
        "outputId": "a90584d9-c0c0-4f81-e147-88a796919967"
      },
      "execution_count": 99,
      "outputs": [
        {
          "output_type": "stream",
          "name": "stdout",
          "text": [
            "Hello  Austin\n"
          ]
        }
      ]
    },
    {
      "cell_type": "code",
      "source": [
        "# 3 인수 없고 반환 있는 사용자 정의 함수\n",
        "\n",
        "def welcome():\n",
        "  return 1\n",
        "\n",
        "welcome()\n"
      ],
      "metadata": {
        "colab": {
          "base_uri": "https://localhost:8080/"
        },
        "id": "Ovls1xGgr-6h",
        "outputId": "5131c3e7-fc43-4e61-ab2f-b2dadd7098cd"
      },
      "execution_count": 101,
      "outputs": [
        {
          "output_type": "execute_result",
          "data": {
            "text/plain": [
              "1"
            ]
          },
          "metadata": {},
          "execution_count": 101
        }
      ]
    },
    {
      "cell_type": "code",
      "source": [
        "# 4 인수 있고 반환 있는 사용자 정의 함수\n",
        "\n",
        "def add(a,b):\n",
        "  return a+b\n",
        "\n",
        "add(3,4)"
      ],
      "metadata": {
        "colab": {
          "base_uri": "https://localhost:8080/"
        },
        "id": "UF1wy6cksV1R",
        "outputId": "ee280454-26ff-4ae9-920d-95089de55ecf"
      },
      "execution_count": 102,
      "outputs": [
        {
          "output_type": "execute_result",
          "data": {
            "text/plain": [
              "7"
            ]
          },
          "metadata": {},
          "execution_count": 102
        }
      ]
    },
    {
      "cell_type": "code",
      "source": [
        "def introduce(name,age):\n",
        "  print(f'내이름은 {name} 이고, 나이는 {age}살입니다.')\n",
        "\n",
        "introduce('james', 25)"
      ],
      "metadata": {
        "colab": {
          "base_uri": "https://localhost:8080/"
        },
        "id": "KC-aODfQsym5",
        "outputId": "4f531c3e-487a-43fe-9037-30d2bceb9c60"
      },
      "execution_count": 104,
      "outputs": [
        {
          "output_type": "stream",
          "name": "stdout",
          "text": [
            "내이름은 james 이고, 나이는 25살입니다.\n"
          ]
        }
      ]
    },
    {
      "cell_type": "code",
      "source": [
        "# 가변 매개변수\n",
        "\n",
        "def add2(a,b):\n",
        "  return a+b\n",
        "def add3(a,b,c):\n",
        "  return a+b+c\n",
        "\n",
        "add2(3,4)\n",
        "\n",
        "\n",
        "del sum\n",
        "\n",
        "\n",
        "def add(*args):\n",
        "  print(f'{sum(args)}입니다')\n",
        "\n",
        "add (1,2,3,4,5)"
      ],
      "metadata": {
        "colab": {
          "base_uri": "https://localhost:8080/"
        },
        "id": "pTiSwdk9tLqY",
        "outputId": "a2f513b3-37d6-43f0-c291-394fbcf736c8"
      },
      "execution_count": 114,
      "outputs": [
        {
          "output_type": "stream",
          "name": "stdout",
          "text": [
            "15입니다\n"
          ]
        }
      ]
    },
    {
      "cell_type": "code",
      "source": [
        "# 디폴트 매개변수\n",
        "def greet(message='안녕하세요'):\n",
        "  print(message)\n",
        "\n",
        "greet( )"
      ],
      "metadata": {
        "colab": {
          "base_uri": "https://localhost:8080/"
        },
        "id": "k5O7pLLvu3G-",
        "outputId": "85c10e11-3d58-4120-b4ec-04b5e004a0f3"
      },
      "execution_count": 111,
      "outputs": [
        {
          "output_type": "stream",
          "name": "stdout",
          "text": [
            "안녕하세요\n"
          ]
        }
      ]
    },
    {
      "cell_type": "code",
      "source": [
        "greet('방가방가')"
      ],
      "metadata": {
        "colab": {
          "base_uri": "https://localhost:8080/"
        },
        "id": "4rp4jJxEvG1m",
        "outputId": "f5316631-ca3e-4cad-c6ab-05d8430cbc0e"
      },
      "execution_count": 112,
      "outputs": [
        {
          "output_type": "stream",
          "name": "stdout",
          "text": [
            "방가방가\n"
          ]
        }
      ]
    }
  ]
}