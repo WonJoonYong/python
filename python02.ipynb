{
  "nbformat": 4,
  "nbformat_minor": 0,
  "metadata": {
    "colab": {
      "name": "python02.ipynb",
      "provenance": [],
      "collapsed_sections": [],
      "authorship_tag": "ABX9TyPOTzk2/5yVaFiLmuPNg/WI",
      "include_colab_link": true
    },
    "kernelspec": {
      "name": "python3",
      "display_name": "Python 3"
    },
    "language_info": {
      "name": "python"
    }
  },
  "cells": [
    {
      "cell_type": "markdown",
      "metadata": {
        "id": "view-in-github",
        "colab_type": "text"
      },
      "source": [
        "<a href=\"https://colab.research.google.com/github/WonJoonYong/python/blob/main/python02.ipynb\" target=\"_parent\"><img src=\"https://colab.research.google.com/assets/colab-badge.svg\" alt=\"Open In Colab\"/></a>"
      ]
    },
    {
      "cell_type": "code",
      "execution_count": 19,
      "metadata": {
        "colab": {
          "base_uri": "https://localhost:8080/"
        },
        "id": "W2NKNUZpq2N5",
        "outputId": "651cf68d-8cb3-4465-827f-d03e3d3f114b"
      },
      "outputs": [
        {
          "output_type": "stream",
          "name": "stdout",
          "text": [
            "[1, 2, 3, 4]\n",
            "[2, 3.14, 'hello']\n"
          ]
        }
      ],
      "source": [
        "# 컬렉션\n",
        "\n",
        "# 모음 여러 값을 하나의 이름으로 묶어서 관리하는 자료형\n",
        "\n",
        "# 리스트 (제일중요)  [] 추가/수정/삭제 가능 mutable         인덱싱 슬라이싱 가능\n",
        "# 튜플               () 추가/수정/삭제 불가능 immutable     인덱싱 슬라이싱 가능\n",
        "# 딕셔너리           {} 추가/수정/삭제 가능 mutable   바꿀수없는      인덱싱 슬라이싱 불가능\n",
        "# 셋                 {} 추가/수정/삭제 가능 mutable         인덱싱 슬라이싱 불가능\n",
        "\n",
        "\n",
        "# 리스트 - 가장 많이 사용하는 자료형이다. 자료형이 다른 데이터들도 함께 저장할 수 있다\n",
        "\n",
        "li1 = [1,2,3,4]\n",
        "print(li1)\n",
        "\n",
        "li2 = [2, 3.14, 'hello']\n",
        "print(li2)\n"
      ]
    },
    {
      "cell_type": "code",
      "source": [
        "li = [2, 3.14, 'hello']\n",
        "li[0]"
      ],
      "metadata": {
        "colab": {
          "base_uri": "https://localhost:8080/"
        },
        "id": "Oek63uUNtU71",
        "outputId": "66e87892-dcf0-46a4-9294-ab102bde38a2"
      },
      "execution_count": 20,
      "outputs": [
        {
          "output_type": "execute_result",
          "data": {
            "text/plain": [
              "2"
            ]
          },
          "metadata": {},
          "execution_count": 20
        }
      ]
    },
    {
      "cell_type": "code",
      "source": [
        "# (start, stop, step)\n",
        "\n",
        "li = [2, 3.14, 'hello']\n",
        "li[0:2]"
      ],
      "metadata": {
        "colab": {
          "base_uri": "https://localhost:8080/"
        },
        "id": "fp_ZCs0RuP2q",
        "outputId": "9a17e6ac-0e11-4411-f0f2-274eeedc6af0"
      },
      "execution_count": 21,
      "outputs": [
        {
          "output_type": "execute_result",
          "data": {
            "text/plain": [
              "[2, 3.14]"
            ]
          },
          "metadata": {},
          "execution_count": 21
        }
      ]
    },
    {
      "cell_type": "code",
      "source": [
        "scores = [50,40,30,]\n",
        "\n",
        "scores.append(80)\n",
        "scores\n",
        "\n",
        "scores.insert(0,100)\n",
        "scores"
      ],
      "metadata": {
        "id": "NFdUHIJ5u8SY",
        "colab": {
          "base_uri": "https://localhost:8080/"
        },
        "outputId": "cb3866ad-7e25-4a59-ae43-84c73c61fe35"
      },
      "execution_count": 22,
      "outputs": [
        {
          "output_type": "execute_result",
          "data": {
            "text/plain": [
              "[100, 50, 40, 30, 80]"
            ]
          },
          "metadata": {},
          "execution_count": 22
        }
      ]
    },
    {
      "cell_type": "code",
      "source": [
        "scores.pop() # 끝에서 부터 하나씩 삭제"
      ],
      "metadata": {
        "colab": {
          "base_uri": "https://localhost:8080/"
        },
        "id": "CBhNpVA3Tqew",
        "outputId": "e796bdee-de60-4a32-bf46-b8ef90de3c86"
      },
      "execution_count": 23,
      "outputs": [
        {
          "output_type": "execute_result",
          "data": {
            "text/plain": [
              "80"
            ]
          },
          "metadata": {},
          "execution_count": 23
        }
      ]
    },
    {
      "cell_type": "code",
      "source": [
        "scores.pop(0)"
      ],
      "metadata": {
        "colab": {
          "base_uri": "https://localhost:8080/"
        },
        "id": "Jy18tx31Tzld",
        "outputId": "2cc67b8d-3b53-41a3-c4c2-e88ec386b45e"
      },
      "execution_count": 24,
      "outputs": [
        {
          "output_type": "execute_result",
          "data": {
            "text/plain": [
              "100"
            ]
          },
          "metadata": {},
          "execution_count": 24
        }
      ]
    },
    {
      "cell_type": "code",
      "source": [
        "scores"
      ],
      "metadata": {
        "colab": {
          "base_uri": "https://localhost:8080/"
        },
        "id": "ZEnnDpQGUNXz",
        "outputId": "15a77377-e6b9-49f8-8775-adc8cab1f8aa"
      },
      "execution_count": 25,
      "outputs": [
        {
          "output_type": "execute_result",
          "data": {
            "text/plain": [
              "[50, 40, 30]"
            ]
          },
          "metadata": {},
          "execution_count": 25
        }
      ]
    },
    {
      "cell_type": "code",
      "source": [
        "#튜플 한마디로 표현하면 수정할 수 없는 리스트\n",
        "# 괄호생략가능\n",
        "\n",
        "tu1= (1,2,3)\n",
        "print(tu1)\n",
        "print(type(tu1))\n",
        "\n",
        "tu2 = 2,3,4\n",
        "print(tu2)\n",
        "print(type(tu2))\n",
        "\n",
        "tu3 = 2,3.14,4, '문자'\n",
        "print(tu3)\n",
        "print(type(tu3))\n"
      ],
      "metadata": {
        "id": "8GQJXul7UXzL",
        "colab": {
          "base_uri": "https://localhost:8080/"
        },
        "outputId": "404aa62e-bb0d-4871-c7b3-0a0c2bf95181"
      },
      "execution_count": 26,
      "outputs": [
        {
          "output_type": "stream",
          "name": "stdout",
          "text": [
            "(1, 2, 3)\n",
            "<class 'tuple'>\n",
            "(2, 3, 4)\n",
            "<class 'tuple'>\n",
            "(2, 3.14, 4, '문자')\n",
            "<class 'tuple'>\n"
          ]
        }
      ]
    },
    {
      "cell_type": "code",
      "source": [
        "tu = (10,20,30,40,50)\n",
        "tu[0:3]"
      ],
      "metadata": {
        "colab": {
          "base_uri": "https://localhost:8080/"
        },
        "id": "5DGV6x7a1N3D",
        "outputId": "79583265-c492-47c0-8ead-8c82d1f0de98"
      },
      "execution_count": 27,
      "outputs": [
        {
          "output_type": "execute_result",
          "data": {
            "text/plain": [
              "(10, 20, 30)"
            ]
          },
          "metadata": {},
          "execution_count": 27
        }
      ]
    },
    {
      "cell_type": "code",
      "source": [
        "set = {1,2,3}\n",
        "print(type(set))\n",
        "print(set)\n"
      ],
      "metadata": {
        "colab": {
          "base_uri": "https://localhost:8080/"
        },
        "id": "kDPUZ2PF15KL",
        "outputId": "890902a0-4772-42d1-e070-158d691cb559"
      },
      "execution_count": 28,
      "outputs": [
        {
          "output_type": "stream",
          "name": "stdout",
          "text": [
            "<class 'set'>\n",
            "{1, 2, 3}\n"
          ]
        }
      ]
    },
    {
      "cell_type": "code",
      "source": [
        "set = {1,2,3,2,3}\n",
        "print(type(set))\n",
        "print(set)"
      ],
      "metadata": {
        "colab": {
          "base_uri": "https://localhost:8080/"
        },
        "id": "JddmACF42HBW",
        "outputId": "1cc891ee-ce00-459f-d2a4-968c050dc9ce"
      },
      "execution_count": 29,
      "outputs": [
        {
          "output_type": "stream",
          "name": "stdout",
          "text": [
            "<class 'set'>\n",
            "{1, 2, 3}\n"
          ]
        }
      ]
    },
    {
      "cell_type": "code",
      "source": [
        "set.add(4)\n",
        "set"
      ],
      "metadata": {
        "colab": {
          "base_uri": "https://localhost:8080/"
        },
        "id": "hPddnkrE2a5W",
        "outputId": "abae8dbd-c34d-47fc-e810-ec7651f42c63"
      },
      "execution_count": 30,
      "outputs": [
        {
          "output_type": "execute_result",
          "data": {
            "text/plain": [
              "{1, 2, 3, 4}"
            ]
          },
          "metadata": {},
          "execution_count": 30
        }
      ]
    },
    {
      "cell_type": "code",
      "source": [
        "set.remove(3)\n"
      ],
      "metadata": {
        "id": "wgA1k7xb2u4e"
      },
      "execution_count": 31,
      "outputs": []
    },
    {
      "cell_type": "code",
      "source": [
        "set"
      ],
      "metadata": {
        "colab": {
          "base_uri": "https://localhost:8080/"
        },
        "id": "4Ub3LcN-21xu",
        "outputId": "e7976178-00db-41ab-f33d-ce3385c2b005"
      },
      "execution_count": 32,
      "outputs": [
        {
          "output_type": "execute_result",
          "data": {
            "text/plain": [
              "{1, 2, 4}"
            ]
          },
          "metadata": {},
          "execution_count": 32
        }
      ]
    },
    {
      "cell_type": "code",
      "source": [
        "#딕셔너리 : 키와 밸류 한 쌍으로 구성된 자료형이다\n",
        "dict = {'a':'apple', 'b':'banana'}\n",
        "\n",
        "print(dict)\n",
        "print(type(dict))\n",
        "\n"
      ],
      "metadata": {
        "id": "3IxPnLSh26jl"
      },
      "execution_count": null,
      "outputs": []
    },
    {
      "cell_type": "code",
      "source": [
        "dict['w']='watermelon'\n",
        "print(dict)\n",
        "print(type(dict))"
      ],
      "metadata": {
        "colab": {
          "base_uri": "https://localhost:8080/"
        },
        "id": "G1Jr3ZTv3581",
        "outputId": "4532bcc7-329a-4e3b-eb75-2299fdaa369a"
      },
      "execution_count": 33,
      "outputs": [
        {
          "output_type": "stream",
          "name": "stdout",
          "text": [
            "{'a': 'apple', 'b': 'banana', 'w': 'watermelon'}\n",
            "<class 'dict'>\n"
          ]
        }
      ]
    },
    {
      "cell_type": "code",
      "source": [
        "dict.pop('a')\n",
        "print(dict)\n",
        "print(type(dict))"
      ],
      "metadata": {
        "colab": {
          "base_uri": "https://localhost:8080/"
        },
        "id": "qLeA7CrG4NWu",
        "outputId": "49419c38-2c94-4030-9b2c-5e00cd1a11cf"
      },
      "execution_count": 34,
      "outputs": [
        {
          "output_type": "stream",
          "name": "stdout",
          "text": [
            "{'b': 'banana', 'w': 'watermelon'}\n",
            "<class 'dict'>\n"
          ]
        }
      ]
    },
    {
      "cell_type": "code",
      "source": [
        "me=[1,2,3] # 리스트\n",
        "id(me)"
      ],
      "metadata": {
        "colab": {
          "base_uri": "https://localhost:8080/"
        },
        "id": "wiGIEgI74Y1U",
        "outputId": "6f1a3eb0-a90a-473d-d0c3-3ce519742a10"
      },
      "execution_count": 37,
      "outputs": [
        {
          "output_type": "execute_result",
          "data": {
            "text/plain": [
              "140065648784480"
            ]
          },
          "metadata": {},
          "execution_count": 37
        }
      ]
    },
    {
      "cell_type": "code",
      "source": [
        "me.append(4)\n",
        "print(id(me))\n",
        "print(me)"
      ],
      "metadata": {
        "colab": {
          "base_uri": "https://localhost:8080/"
        },
        "id": "fut7mxsQ5J_1",
        "outputId": "6945e94b-f3b7-48b3-e1e9-c3779470d45f"
      },
      "execution_count": 41,
      "outputs": [
        {
          "output_type": "stream",
          "name": "stdout",
          "text": [
            "140065648784480\n",
            "[1, 2, 3, 4, 4, 4, 4]\n"
          ]
        }
      ]
    },
    {
      "cell_type": "code",
      "source": [
        "me=10    #정수\n",
        "print(id(me))"
      ],
      "metadata": {
        "colab": {
          "base_uri": "https://localhost:8080/"
        },
        "id": "NWy0CGTz550F",
        "outputId": "a7edd27d-37d5-49f6-d536-5db65f5c14f6"
      },
      "execution_count": 43,
      "outputs": [
        {
          "output_type": "stream",
          "name": "stdout",
          "text": [
            "94386377923360\n"
          ]
        }
      ]
    },
    {
      "cell_type": "code",
      "source": [
        "me += 1\n",
        "print(id(me))"
      ],
      "metadata": {
        "colab": {
          "base_uri": "https://localhost:8080/"
        },
        "id": "_DrxmwGK6ILT",
        "outputId": "af793204-d967-4fbf-999c-87e4356c58a3"
      },
      "execution_count": 44,
      "outputs": [
        {
          "output_type": "stream",
          "name": "stdout",
          "text": [
            "94386377923392\n"
          ]
        }
      ]
    },
    {
      "cell_type": "code",
      "source": [
        "me = [1,2,3]\n",
        "\n",
        "you = me\n",
        "\n",
        "print(id(me))\n",
        "print(id(you))"
      ],
      "metadata": {
        "colab": {
          "base_uri": "https://localhost:8080/"
        },
        "id": "HFlk3Ran6e96",
        "outputId": "9d914452-7ad0-4806-bc51-299a68dc7326"
      },
      "execution_count": 46,
      "outputs": [
        {
          "output_type": "stream",
          "name": "stdout",
          "text": [
            "140065648858128\n",
            "140065648858128\n"
          ]
        }
      ]
    },
    {
      "cell_type": "code",
      "source": [
        "you.append(4)\n",
        "\n",
        "print(id(me))\n",
        "print(id(you))\n",
        "print(me)\n",
        "print(you)"
      ],
      "metadata": {
        "colab": {
          "base_uri": "https://localhost:8080/"
        },
        "id": "gqTT0qtr6wU4",
        "outputId": "6b02cfe8-d0ee-4be3-83d9-ca92d8df8c7b"
      },
      "execution_count": 48,
      "outputs": [
        {
          "output_type": "stream",
          "name": "stdout",
          "text": [
            "140065648858128\n",
            "140065648858128\n",
            "[1, 2, 3, 4, 4]\n",
            "[1, 2, 3, 4, 4]\n"
          ]
        }
      ]
    },
    {
      "cell_type": "code",
      "source": [
        "no =  '서울2가1234'\n",
        "no1= '10가1234'\n",
        "no2 = '288가1234'\n",
        "\n",
        "print(no,'의 차량번호 4자리는',no[-4:],'입니다')\n",
        "print(no1,'의 차량번호 4자리는',no1[-4:],'입니다')\n",
        "print(no2,'의 차량번호 4자리는',no2[-4:],'입니다')"
      ],
      "metadata": {
        "colab": {
          "base_uri": "https://localhost:8080/"
        },
        "id": "vK3d6Tlr7XPz",
        "outputId": "baf6866b-a8af-426a-c43c-b26e3895dfb9"
      },
      "execution_count": 77,
      "outputs": [
        {
          "output_type": "stream",
          "name": "stdout",
          "text": [
            "서울2가1234 의 차량번호 4자리는 1234 입니다\n",
            "10가1234 의 차량번호 4자리는 1234 입니다\n",
            "288가1234 의 차량번호 4자리는 1234 입니다\n"
          ]
        }
      ]
    },
    {
      "cell_type": "code",
      "source": [
        "s = 'maple'\n",
        "\n",
        "print(s,'의 가운데 글자는',s[2],'입니다')"
      ],
      "metadata": {
        "colab": {
          "base_uri": "https://localhost:8080/"
        },
        "id": "NhG4FrI79yG0",
        "outputId": "49eb810d-2393-472c-a951-c68d79edd08a"
      },
      "execution_count": 81,
      "outputs": [
        {
          "output_type": "stream",
          "name": "stdout",
          "text": [
            "maple 의 가운데 글자는 p 입니다\n"
          ]
        }
      ]
    },
    {
      "cell_type": "code",
      "source": [
        "li = [10,20,30,40,50,60,70,80,90,100]\n",
        "\n",
        "print('3번째 요소부터 7번째요소 =',li[2:7])\n",
        "print('3번째 요소부터 7번째요소 2번째 요소 =',li[2:7][1])"
      ],
      "metadata": {
        "colab": {
          "base_uri": "https://localhost:8080/"
        },
        "id": "JYdUU-mf-J-V",
        "outputId": "4f925349-b15f-4064-f7bf-1073ac49d449"
      },
      "execution_count": 94,
      "outputs": [
        {
          "output_type": "stream",
          "name": "stdout",
          "text": [
            "3번째 요소부터 7번째요소 = [30, 40, 50, 60, 70]\n",
            "3번째 요소부터 7번째요소 2번째 요소 = 40\n"
          ]
        }
      ]
    },
    {
      "cell_type": "code",
      "source": [
        "dict = {'금요일' : '탕수육', '토요일': '유산슬', '일요일' : '팔보채'}\n",
        "\n",
        "print('금요일 :',dict['금요일'])\n",
        "print('토요일 :',dict['토요일'])\n",
        "print('일요일 :',dict['일요일'])\n"
      ],
      "metadata": {
        "colab": {
          "base_uri": "https://localhost:8080/"
        },
        "id": "Y0PtYKsO-whD",
        "outputId": "0d5da36b-81c1-4009-afbe-4523f7f1f142"
      },
      "execution_count": 97,
      "outputs": [
        {
          "output_type": "stream",
          "name": "stdout",
          "text": [
            "금요일 : 탕수육\n",
            "토요일 : 유산슬\n",
            "일요일 : 팔보채\n"
          ]
        }
      ]
    },
    {
      "cell_type": "code",
      "source": [
        "print('Hello \\'world\\'')\n",
        "print('Hello \\\"world\\\"')\n",
        "print('*\\n**\\n***')\n",
        "print('이름\\t연락처')\n",
        "print('제시카\\t02-123-1234')\n",
        "print('마틴\\t010-1234-1456')"
      ],
      "metadata": {
        "colab": {
          "base_uri": "https://localhost:8080/"
        },
        "id": "Rr4aHoY5_4tN",
        "outputId": "4fb0c96a-b3eb-4c1a-fe06-cb15421195bd"
      },
      "execution_count": 103,
      "outputs": [
        {
          "output_type": "stream",
          "name": "stdout",
          "text": [
            "Hello 'world'\n",
            "Hello \"world\"\n",
            "*\n",
            "**\n",
            "***\n",
            "이름\t연락처\n",
            "제시카\t02-123-1234\n",
            "마틴\t010-1234-1456\n"
          ]
        }
      ]
    },
    {
      "cell_type": "code",
      "source": [
        "print('재미있는','파이썬', sep='')\n",
        "print('Python','java','c,', sep='.')\n",
        "print()\n",
        "print('영화 타이타닉')\n",
        "print('평점', end = ':')\n",
        "print('5점')"
      ],
      "metadata": {
        "colab": {
          "base_uri": "https://localhost:8080/"
        },
        "id": "5kp8jxxZBbF5",
        "outputId": "c3f8559f-05d3-435a-dc94-64500ab98b06"
      },
      "execution_count": 110,
      "outputs": [
        {
          "output_type": "stream",
          "name": "stdout",
          "text": [
            "재미있는파이썬\n",
            "Python.java.c,\n",
            "\n",
            "영화 타이타닉\n",
            "평점:5점\n"
          ]
        }
      ]
    },
    {
      "cell_type": "code",
      "source": [
        "# 인쇄 4가지 방법\n",
        "# 1. 기본출력\n",
        "# 2. %연산자출력\n",
        "# 3. format()매서드\n",
        "# 4. f string()\n",
        "\n",
        "# %연산자출력\n",
        "\n",
        "print('%d' % 100)\n",
        "print('%d 원입니다.' % 100)\n",
        "\n",
        "print('%f' %3.14)\n",
        "print('%s' %3.14)\n",
        "\n"
      ],
      "metadata": {
        "colab": {
          "base_uri": "https://localhost:8080/"
        },
        "id": "hZX4Ry4oC5U1",
        "outputId": "69b24f23-71eb-4c01-87bc-4c951bfcb331"
      },
      "execution_count": 116,
      "outputs": [
        {
          "output_type": "stream",
          "name": "stdout",
          "text": [
            "100\n",
            "100 원입니다.\n",
            "3.140000\n",
            "3.14\n"
          ]
        }
      ]
    },
    {
      "cell_type": "code",
      "source": [
        "print('%5d' %1)\n",
        "print('%5d' %12)\n",
        "print('%5d' %123)\n",
        "\n",
        "\n",
        "print('%-5d' %1)\n",
        "print('%-5d' %12)\n",
        "print('%-5d' %123)"
      ],
      "metadata": {
        "colab": {
          "base_uri": "https://localhost:8080/"
        },
        "id": "SlCHSXN-EXz3",
        "outputId": "cb2b56fe-9f03-4bdd-cbbb-a714d10bb086"
      },
      "execution_count": 120,
      "outputs": [
        {
          "output_type": "stream",
          "name": "stdout",
          "text": [
            "    1\n",
            "   12\n",
            "  123\n",
            "1    \n",
            "12   \n",
            "123  \n"
          ]
        }
      ]
    },
    {
      "cell_type": "code",
      "source": [
        "# format()매소드\n",
        "# % 연산자\n",
        "print('My name is {} i\\'m {} years old'. format('James', 25))\n",
        "\n",
        "# 2 기본출력\n",
        "name = 'James'\n",
        "age=25\n",
        "print('My name is', name,'i\\'m',age +1 , 'years old')\n",
        "\n",
        "# 3 format매서드\n",
        "print('My name is %s i\\'m %s years old' %('James', 25))\n",
        "\n",
        "# 4 f string\n",
        "print(f'My name is {name} i\\'m {age} years old')"
      ],
      "metadata": {
        "colab": {
          "base_uri": "https://localhost:8080/"
        },
        "id": "VCwH32GbE4XQ",
        "outputId": "01b8c4f1-f6dc-4ba4-b7f9-789e31ca98da"
      },
      "execution_count": 137,
      "outputs": [
        {
          "output_type": "stream",
          "name": "stdout",
          "text": [
            "My name is James i'm 25 years old\n",
            "My name is James i'm 26 years old\n",
            "My name is James i'm 25 years old\n",
            "My name is James i'm 25 years old\n"
          ]
        }
      ]
    },
    {
      "cell_type": "code",
      "source": [
        "age = 25\n",
        "\n",
        "print(f'내년엔{age+1}살이 됩니다')"
      ],
      "metadata": {
        "colab": {
          "base_uri": "https://localhost:8080/"
        },
        "id": "SPFTQ5lOHO8C",
        "outputId": "f03fb9b0-1cef-439b-f7e2-163d1e79cb95"
      },
      "execution_count": 136,
      "outputs": [
        {
          "output_type": "stream",
          "name": "stdout",
          "text": [
            "내년엔26살이 됩니다\n"
          ]
        }
      ]
    }
  ]
}