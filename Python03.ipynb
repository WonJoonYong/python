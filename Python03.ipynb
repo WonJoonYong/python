{
  "nbformat": 4,
  "nbformat_minor": 0,
  "metadata": {
    "colab": {
      "name": "Python03.ipynb",
      "provenance": [],
      "collapsed_sections": [],
      "authorship_tag": "ABX9TyOeNAnzS3mDD7aYQn7ivHG4",
      "include_colab_link": true
    },
    "kernelspec": {
      "name": "python3",
      "display_name": "Python 3"
    },
    "language_info": {
      "name": "python"
    }
  },
  "cells": [
    {
      "cell_type": "markdown",
      "metadata": {
        "id": "view-in-github",
        "colab_type": "text"
      },
      "source": [
        "<a href=\"https://colab.research.google.com/github/WonJoonYong/python/blob/main/Python03.ipynb\" target=\"_parent\"><img src=\"https://colab.research.google.com/assets/colab-badge.svg\" alt=\"Open In Colab\"/></a>"
      ]
    },
    {
      "cell_type": "code",
      "execution_count": null,
      "metadata": {
        "id": "UKRk9sebaLMp"
      },
      "outputs": [],
      "source": [
        "#조건문\n",
        "\n",
        "# IF - 특정 조건을 만족하는지 여부에 따라 실행하는 코드가 달라져야 할때 사용된다\n",
        "\n",
        "a=5\n",
        "\n",
        "if a > 0:\n",
        " print('양수')\n",
        "\n",
        "if True:\n",
        "  print('양수')\n",
        "\n"
      ]
    },
    {
      "cell_type": "code",
      "source": [
        "# if - else\n",
        "\n",
        "a = 6\n",
        "\n",
        "if a>= 0:\n",
        "  print('양수')\n",
        "else:\n",
        "  print('음수')"
      ],
      "metadata": {
        "colab": {
          "base_uri": "https://localhost:8080/"
        },
        "id": "nojePPN7e8hD",
        "outputId": "14a41c6a-4edb-4d10-d493-3a85970833d8"
      },
      "execution_count": 5,
      "outputs": [
        {
          "output_type": "stream",
          "name": "stdout",
          "text": [
            "양수\n"
          ]
        }
      ]
    },
    {
      "cell_type": "code",
      "source": [
        "age = int(input('몇살입니까?>>>'))\n",
        "if age >=20:\n",
        "  print('성인')\n",
        "else:\n",
        "  print('미성년자')"
      ],
      "metadata": {
        "colab": {
          "base_uri": "https://localhost:8080/"
        },
        "id": "6FziGptsfhii",
        "outputId": "5a2e415e-616b-4382-cdb5-6e2e42cade40"
      },
      "execution_count": 7,
      "outputs": [
        {
          "output_type": "stream",
          "name": "stdout",
          "text": [
            "몇살입니까?>>>15\n",
            "미성년자\n"
          ]
        }
      ]
    },
    {
      "cell_type": "code",
      "source": [
        "# if - elif\n",
        "\n",
        "important = 40\n",
        "if important >= 100:\n",
        "  print('상')\n",
        "else:\n",
        "  if important>= 50:\n",
        "    print('중')\n",
        "  else:\n",
        "    print('하') "
      ],
      "metadata": {
        "colab": {
          "base_uri": "https://localhost:8080/"
        },
        "id": "IKqFlUV0gPoj",
        "outputId": "01512aab-20ac-458e-a239-8796386ad6c7"
      },
      "execution_count": 12,
      "outputs": [
        {
          "output_type": "stream",
          "name": "stdout",
          "text": [
            "하\n"
          ]
        }
      ]
    },
    {
      "cell_type": "code",
      "source": [
        "if important >= 100:\n",
        "  print('상')\n",
        "elif important>= 50:\n",
        "  print('중')\n",
        "else:\n",
        "  print('하')   "
      ],
      "metadata": {
        "id": "NIYPOD8GhAaE"
      },
      "execution_count": null,
      "outputs": []
    },
    {
      "cell_type": "code",
      "source": [
        "score = 40\n",
        "\n",
        "if score>=90:\n",
        "  print('A')\n",
        "elif score >=80:\n",
        "  print('B')\n",
        "elif score >=70:\n",
        "  print('C')\n",
        "elif score >=60:\n",
        "  print('D')\n",
        "else:\n",
        "  print('F')"
      ],
      "metadata": {
        "colab": {
          "base_uri": "https://localhost:8080/"
        },
        "id": "E9-rpSv9hs01",
        "outputId": "9cfd68e4-4061-47b9-e3d4-31d302cc6b30"
      },
      "execution_count": 13,
      "outputs": [
        {
          "output_type": "stream",
          "name": "stdout",
          "text": [
            "F\n"
          ]
        }
      ]
    },
    {
      "cell_type": "code",
      "source": [
        "# score = int(input('점수를 입력하세요>>>'))\n",
        "\n",
        "# if score >= 90:\n",
        "#   print(f'점수는',score,'A학점입니다')\n",
        "# elif score >= 80:\n",
        "#   print(f'점수는',score,'B학점입니다')\n",
        "# elif score >= 70:\n",
        "#   print(f'점수는',score,'C학점입니다')\n",
        "# elif score >= 60:\n",
        "#   print(f'점수는',score,'D학점입니다')\n",
        "# else:\n",
        "#   print(f'점수는',score,'F학점입니다')\n",
        "\n",
        "\n",
        "\n",
        "\n",
        "score = int(input('점수를 입력하세요>>>'))\n",
        "\n",
        "if score >= 90:\n",
        "   hak = 'A'\n",
        "elif score >= 80:\n",
        "   hak = 'B'\n",
        "elif score >= 70:\n",
        "   hak = 'C'\n",
        "elif score >= 60:\n",
        "   hak = 'D'\n",
        "else:\n",
        "  hak = 'F'\n",
        "\n",
        "print(f'점수는 {score} 점이고, 학점은 {hak}학점입니다')"
      ],
      "metadata": {
        "colab": {
          "base_uri": "https://localhost:8080/"
        },
        "id": "YrLEzNesiMme",
        "outputId": "402d5a31-bfdf-465a-ffaf-1ff095ade188"
      },
      "execution_count": 39,
      "outputs": [
        {
          "output_type": "stream",
          "name": "stdout",
          "text": [
            "점수를 입력하세요>>>80\n",
            "점수는 80 점이고, 학점은 B학점입니다\n"
          ]
        }
      ]
    },
    {
      "cell_type": "code",
      "source": [
        "#2\n",
        "num = int(input('정수를 입력하세요>>>'))\n",
        "\n",
        "if num % 3==0:\n",
        "  print(f'{num}는 3의 배수입니다.')\n",
        "else:\n",
        "  print(f'{num}는3의 배수가 아닙니다')"
      ],
      "metadata": {
        "colab": {
          "base_uri": "https://localhost:8080/"
        },
        "id": "7YysfF-Loot2",
        "outputId": "d7acf0e6-b5ca-4366-a0f0-3db046c5c58b"
      },
      "execution_count": 43,
      "outputs": [
        {
          "output_type": "stream",
          "name": "stdout",
          "text": [
            "정수를 입력하세요>>>15\n",
            "15는 3의 배수입니다.\n"
          ]
        }
      ]
    },
    {
      "cell_type": "code",
      "source": [
        "no1 = int(input('정수1입력'))\n",
        "no2 = int(input('정수2입력'))\n",
        "no3 = int(input('정수3입력'))\n",
        "\n",
        "if no1 > no2 and no2 > no3:\n",
        "  result = no1\n",
        "elif no3 > no2 and no2 > no1:\n",
        "  result = no3\n",
        "else:\n",
        "  result = no2\n",
        "print(f'가장큰수는{result}입니다.')\n"
      ],
      "metadata": {
        "colab": {
          "base_uri": "https://localhost:8080/"
        },
        "id": "AcEv6leLpPQt",
        "outputId": "a15e5234-5164-40b7-e82c-f0a93fd3c84f"
      },
      "execution_count": 47,
      "outputs": [
        {
          "name": "stdout",
          "output_type": "stream",
          "text": [
            "정수1 입력3\n",
            "정수2 입력2\n",
            "정수3 입력1\n"
          ]
        },
        {
          "output_type": "execute_result",
          "data": {
            "text/plain": [
              "1"
            ]
          },
          "metadata": {},
          "execution_count": 47
        }
      ]
    },
    {
      "cell_type": "code",
      "source": [
        "no1 = int(input('정수1입력'))\n",
        "no2 = int(input('정수2입력'))\n",
        "no3 = int(input('정수3입력'))\n",
        "\n",
        "print(f'가장큰수는{max(no1,no2,no3)}입니다.')"
      ],
      "metadata": {
        "colab": {
          "base_uri": "https://localhost:8080/"
        },
        "id": "pFlBECZVrWVn",
        "outputId": "2642c12a-7e35-4991-9cd4-6175d3353d92"
      },
      "execution_count": 48,
      "outputs": [
        {
          "output_type": "stream",
          "name": "stdout",
          "text": [
            "정수1입력4\n",
            "정수2입력8\n",
            "정수3입력10\n",
            "가장큰수는10입니다.\n"
          ]
        }
      ]
    },
    {
      "cell_type": "code",
      "source": [
        "car = input('차량번호를 입력하세요>>>')\n",
        "\n",
        "no = int(car[-1])\n",
        "\n",
        "\n",
        "if no % 2==0:\n",
        "  result = '운행가능'\n",
        "else:\n",
        "  result ='운행불가'\n",
        "print(f'차량번호 {car}은 {result}입니다')\n",
        "\n",
        "\n",
        "# car_num = input('차량번호를 입력하세요>>>')\n",
        "# sl_num=int(car_num[-4:])\n",
        "# if sl_num % 2 == 0:\n",
        "#   result='운행가능'\n",
        "# else:\n",
        "#   result='운행 불가능'\n",
        "# print(f'차량번호 {car_num}은 {result}입니다.' )\n"
      ],
      "metadata": {
        "colab": {
          "base_uri": "https://localhost:8080/"
        },
        "id": "-x42j8wzrv0s",
        "outputId": "d82ed2c1-e891-4af1-bc69-20f818bf073d"
      },
      "execution_count": 66,
      "outputs": [
        {
          "output_type": "stream",
          "name": "stdout",
          "text": [
            "차량번호를 입력하세요>>>237가1235\n",
            "차량번호237가1235은 운행불가입니다\n"
          ]
        }
      ]
    },
    {
      "cell_type": "code",
      "source": [
        "#반복문\n",
        "#while  - 반복횟수를 정확히 모를 때,      해질때까지 운동장을 돌자\n",
        "#for    - 반복횟수를 정확히 알 때 (*****) 운동장을 10바퀴 돌자\n",
        "\n",
        "# while True:\n",
        "#   print('hello python')\n",
        "\n",
        "n= 1\n",
        "while n<=10:\n",
        "  print(f'{n} : hello')\n",
        "  n+=1\n"
      ],
      "metadata": {
        "id": "oSuHD9Pdxx2C"
      },
      "execution_count": null,
      "outputs": []
    },
    {
      "cell_type": "code",
      "source": [
        "n = 10\n",
        "while n >= 1:\n",
        "  print(n)\n",
        "  n -=1"
      ],
      "metadata": {
        "colab": {
          "base_uri": "https://localhost:8080/"
        },
        "id": "j-NTXJ_d2OjM",
        "outputId": "51b32e46-55f6-43d2-96e9-f377b44a5f93"
      },
      "execution_count": 71,
      "outputs": [
        {
          "output_type": "stream",
          "name": "stdout",
          "text": [
            "10\n",
            "9\n",
            "8\n",
            "7\n",
            "6\n",
            "5\n",
            "4\n",
            "3\n",
            "2\n",
            "1\n"
          ]
        }
      ]
    },
    {
      "cell_type": "code",
      "source": [
        "my_list = []\n",
        "\n",
        "n=int(input('정수를 입력하세요(종료는0입니다.>>>'))\n",
        "\n",
        "while n!=0:\n",
        "  my_list.append(n)\n",
        "  n=int(input('정수를 입력하세요(종료는0입니다. >>>'))\n",
        "\n",
        "print(my_list)"
      ],
      "metadata": {
        "id": "b6_l78E42nHC"
      },
      "execution_count": null,
      "outputs": []
    },
    {
      "cell_type": "code",
      "source": [
        "day = 1 \n",
        "while day <= 5:\n",
        "  \n",
        "  hour = 1\n",
        "  while hour <=3:\n",
        "    print(day,'일차', hour,'교시')\n",
        "    hour +=1\n",
        "  day +=1"
      ],
      "metadata": {
        "id": "JJ19BN5t3vFc"
      },
      "execution_count": null,
      "outputs": []
    },
    {
      "cell_type": "code",
      "source": [
        "dan = 2\n",
        "while dan<=9:\n",
        "  no = 1\n",
        "  while no <=9:   \n",
        "   print(f'{dan} * {no} = {dan*no}')\n",
        "   no +=1\n",
        "  dan +=1"
      ],
      "metadata": {
        "id": "pjwHL9iV4nYt"
      },
      "execution_count": null,
      "outputs": []
    },
    {
      "cell_type": "code",
      "source": [
        "no = int(input('정수를 입력하세요>>>'))\n",
        "\n",
        "if no <= 0:\n",
        "  print('잘못된 입력입니다.')\n",
        "else:\n",
        "  i = 0\n",
        "  while i < no:\n",
        "    print(f'{no}번째 Hello')\n",
        "    i += 1\n"
      ],
      "metadata": {
        "id": "7K6rQG-0AUko"
      },
      "execution_count": null,
      "outputs": []
    },
    {
      "cell_type": "code",
      "source": [
        "n = 1\n",
        "while n <= 100:\n",
        "  if n % 7 == 0:   \n",
        "    print(n) \n",
        "  n += 1"
      ],
      "metadata": {
        "colab": {
          "base_uri": "https://localhost:8080/"
        },
        "id": "4jVNv970AXfA",
        "outputId": "ef703f0e-0b41-4829-cae3-a12449598e17"
      },
      "execution_count": 139,
      "outputs": [
        {
          "output_type": "stream",
          "name": "stdout",
          "text": [
            "7\n",
            "14\n",
            "21\n",
            "28\n",
            "35\n",
            "42\n",
            "49\n",
            "56\n",
            "63\n",
            "70\n",
            "77\n",
            "84\n",
            "91\n",
            "98\n"
          ]
        }
      ]
    }
  ]
}